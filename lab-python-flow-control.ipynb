{
 "cells": [
  {
   "cell_type": "markdown",
   "id": "d3bfc191-8885-42ee-b0a0-bbab867c6f9f",
   "metadata": {
    "tags": []
   },
   "source": [
    "# Lab | Flow Control"
   ]
  },
  {
   "cell_type": "markdown",
   "id": "3851fcd1-cf98-4653-9c89-e003b7ec9400",
   "metadata": {},
   "source": [
    "## Exercise: Managing Customer Orders Optimized\n",
    "\n",
    "In the last lab, you were starting an online store that sells various products. To ensure smooth operations, you developed a program that manages customer orders and inventory.\n",
    "\n",
    "You did so without using flow control. Let's go a step further and improve this code.\n",
    "\n",
    "Follow the steps below to complete the exercise:\n",
    "\n",
    "1. Look at your code from the lab data structures, and improve repeated code with loops.\n",
    "\n",
    "2. Instead of asking the user to input the name of three products that a customer wants to order, do the following:\n",
    "    \n",
    "    a. Prompt the user to enter the name of a product that a customer wants to order.\n",
    "    \n",
    "    b. Add the product name to the \"customer_orders\" set.\n",
    "    \n",
    "    c. Ask the user if they want to add another product (yes/no).\n",
    "    \n",
    "    d. Continue the loop until the user does not want to add another product.\n",
    "\n",
    "3. Instead of updating the inventory by subtracting 1 from the quantity of each product, only do it for  the products that were ordered (those in \"customer_orders\")."
   ]
  },
  {
   "cell_type": "code",
   "execution_count": 1,
   "id": "8b9cad37",
   "metadata": {},
   "outputs": [
    {
     "name": "stdout",
     "output_type": "stream",
     "text": [
      "\u001b[1mWELCOME TO ALBERT'S OPTIMIZED SHOP (Version 0.2)\u001b[0m\n",
      "These are the selected products: ['mug'])\n"
     ]
    }
   ],
   "source": [
    "B = \"\\033[1m\"   \n",
    "R = \"\\033[0m\"\n",
    "\n",
    "print(f\"{B}WELCOME TO ALBERT'S OPTIMIZED SHOP (Version 0.2){R}\")\n",
    "\n",
    "products = [\"t-shirt\", \"mug\", \"hat\", \"book\", \"keychain\"]\n",
    "\n",
    "letterS = 's'\n",
    "newProduct = [product + letterS for product in products]\n",
    "\n",
    "customer_orders = []\n",
    "\n",
    "while True:\n",
    "    product_name = input(\"Enter the name of a product (t-shirt/mug/hat/book/keychain) you want: \")\n",
    "    customer_orders.append(product_name)\n",
    "    user_input = input(\"Do you want another product? (yes/no): \")\n",
    "    if user_input.lower() not in [\"yes\", \"y\"]:\n",
    "        break\n",
    "\n",
    "print(f\"These are the selected products: {customer_orders})\")\n",
    "\n",
    "#Extras like the title, adding an 's' letter in the end of the products and making the YES or Y to lowercase, were done with Chat GPT"
   ]
  }
 ],
 "metadata": {
  "kernelspec": {
   "display_name": "Python 3",
   "language": "python",
   "name": "python3"
  },
  "language_info": {
   "codemirror_mode": {
    "name": "ipython",
    "version": 3
   },
   "file_extension": ".py",
   "mimetype": "text/x-python",
   "name": "python",
   "nbconvert_exporter": "python",
   "pygments_lexer": "ipython3",
   "version": "3.13.0"
  }
 },
 "nbformat": 4,
 "nbformat_minor": 5
}
